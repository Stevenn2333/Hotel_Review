{
 "cells": [
  {
   "cell_type": "markdown",
   "metadata": {},
   "source": [
    "# Text Algorithms\n",
    "## Business Case\n",
    "\n",
    "<img src=\"Smith_Hotel.png\" alt=\"hotel\" width=\"400\"/>\n",
    "\n",
    "Hotel -- Smith Hotel\n",
    "\n",
    "Smith Hotel is a luxurious boutique hotel located in downtown Kingston. Their target travelers are those who appreciate a luxurious and sophisticated stay in Kingston, whether for leisure or business purposes. As a local hotel the business were not as well known as hotels like Delta Hotel by Marriott nor Four Points by Sheraton. In order to compete with the well known hotels, smith hotel needs to be more careful with the custom reviews. \n",
    "\n",
    "\n",
    "### Product or Service Description\n",
    "The product that I am bringing is the customer reviews classification. This tool can be a valuable asset for the Smith Hotel, as it can help the hotel to understand and analyze customer feedback more efficiently and effectively.A customer review classification tool uses machine learning algorithms to automatically categorize reviews based on their sentiment, topics, and other characteristics. By using this tool, the Smith Hotel can quickly and accurately analyze large volumes of customer reviews from various online platforms, such as TripAdvisor or Google Reviews. And provided better service in order to compete with big name hotels.\n",
    "\n",
    "### Business Value\n",
    "The business value of a customer review classification algorithm for the Smith Hotel is significant. By using an algorithm to analyze and categorize customer reviews, the hotel can gain valuable insights into guest sentiment, identify common issues, and take corrective action to improve the overall guest experience.\n",
    "\n",
    "1. Improved customer satisfaction: By identifying common issuesin guest reviews, the hotel can take corrective action to improve the guest experience. This can lead to increased customer satisfaction and loyalty, as guests are more likely to return to a hotel that provides a positive and enjoyable experience.\n",
    "\n",
    "2. Enhanced reputation: A review classification algorithm can help the Smith Hotel to identify positive themes and aspects of the hotel that guests appreciate. By highlighting these themes in marketing, the hotel can enhance its reputation.\n",
    "\n",
    "3. Competitive advantage: By using a review classification algorithm to analyze customer feedback more efficiently and effectively than competitors, the Smith Hotel can gain a competitive advantage in the market. This can help the hotel to attract more customers and increase revenue.\n",
    "\n",
    "4. Improved operational efficiency: By using an algorithm to analyze customer reviews, the Smith Hotel can quickly identify issues and areas for improvement, enabling the hotel to take corrective action more efficiently. This can help the hotel to improve operational efficiency and reduce costs.\n",
    "\n",
    "### Budget\n",
    "Assume that the hotel has a dataset of customer reviews that consists of 10,000 customer reviews, each with an average of 100 words.\n",
    "\n",
    "Using AWS server and Amazon SageMaker for text classification:\n",
    "\n",
    "1. Data storage: Storing the dataset of 10,000 customer reviews in Amazon S3 will cost around $0.023 per GB per month. Assuming an average of 100 words per review and an average of 5 bytes per word, the dataset will take up approximately 10MB of storage space. Therefore, the monthly cost of storing the dataset will be around $0.00023.\n",
    "\n",
    "2. Data processing: Preprocessing the data and training the text classification model will require computational resources. The cost of using Amazon EC2 - t3.mediam instance for 4 hours per day for a month will cost around $52. Assuming additional costs for data transfer and storage, the total cost for data processing could be around $75 per month.\n",
    "\n",
    "3. SageMaker: The cost of using a SageMaker notebook instance - ml.t3.medium instance for 4 hours per day for a month will cost around $60. In addition, assuming 10 hours of model training per month using a ml.m5.large instance, the cost will be around $75. Therefore, the total cost for using SageMaker for text classification could be around $135 per month.\n",
    "\n",
    "Overall, the estimated monthly budget for using AWS server and Amazon SageMaker for text classification could be around $210 per month.\n",
    "\n",
    "### Investment Analysis\n",
    "Costs:\n",
    "\n",
    "1. Algorithm development: The development of a review classification algorithm require the involvement of data scientists and software engineers. Assuming a team of three professionals working for three months, the total cost could be around $100,000.\n",
    "\n",
    "2. Data processing: Preprocessing the data and training the algorithm will require computational resources. The cost of using Amazon SageMaker instances will have a monthly cost of $210 (as estimated in the previous part), the total cost for data processing could be around $2,520 per year.\n",
    "\n",
    "Benefits:\n",
    "\n",
    "1. Improved customer satisfaction and enhanced reputation as shown in the Business Value section.\n",
    "\n",
    "2. Competitive advantage: By using a review classification algorithm to analyze customer feedback more efficiently and effectively than competitors, the Smith Hotel can gain a competitive advantage in the market. This can help the hotel to attract more customers, increase revenue and reduce cost on manually review the feedback. \n",
    "\n",
    "ROI = (Total Benefits - Total Costs) / Total Costs\n",
    "\n",
    "Assuming the benefits of using a review classification algorithm will be around $150,000 per year, the ROI would be:\n",
    "\n",
    "ROI = ($150,000 - $102,520) / $102,520\n",
    "ROI = 0.46\n"
   ]
  },
  {
   "cell_type": "markdown",
   "metadata": {},
   "source": [
    "## Data\n",
    "### Data Description\n",
    "\n",
    "The dataset was taken from https://www.kaggle.com/datasets/andrewmvd/trip-advisor-hotel-reviews contains hotel reviews and ratings from Tripadvisor, a popular travel website. The dataset consists of one CSV file: tripadvisor_hotel_review.csv \n",
    "\n",
    "This file contains hotel reviews from various locations around the world, including Canada, the United States, Europe, Asia, and Africa. The dataset includes 20,491 reviews in total, spanning from 2008 to 2016. Contains the following information: \n",
    "\n",
    "Review: User review of the hotel\n",
    "\n",
    "Rating: Interger from 1 to 5 repersents the review of the user\n",
    "\n",
    "For this concept of this project this data will be a repersentation of how the Smith Hotel will get the data from online or the review user give during stay (likely to be unlable data) and classify them. \n",
    "\n",
    "### Data Exploration"
   ]
  },
  {
   "cell_type": "code",
   "execution_count": 73,
   "metadata": {
    "tags": []
   },
   "outputs": [
    {
     "name": "stdout",
     "output_type": "stream",
     "text": [
      "Note: you may need to restart the kernel to use updated packages.\n",
      "Note: you may need to restart the kernel to use updated packages.\n"
     ]
    }
   ],
   "source": [
    "%pip install -qU --upgrade boto3\n",
    "%pip install -qU --upgrade sagemaker"
   ]
  },
  {
   "cell_type": "code",
   "execution_count": 74,
   "metadata": {
    "tags": []
   },
   "outputs": [
    {
     "name": "stdout",
     "output_type": "stream",
     "text": [
      "Looking in indexes: https://pypi.org/simple, https://pip.repos.neuron.amazonaws.com\n",
      "Requirement already satisfied: wordcloud in /home/ec2-user/anaconda3/envs/amazonei_pytorch_latest_p37/lib/python3.7/site-packages (1.8.2.2)\n",
      "Requirement already satisfied: numpy>=1.6.1 in /home/ec2-user/anaconda3/envs/amazonei_pytorch_latest_p37/lib/python3.7/site-packages (from wordcloud) (1.21.6)\n",
      "Requirement already satisfied: matplotlib in /home/ec2-user/anaconda3/envs/amazonei_pytorch_latest_p37/lib/python3.7/site-packages (from wordcloud) (3.5.3)\n",
      "Requirement already satisfied: pillow in /home/ec2-user/anaconda3/envs/amazonei_pytorch_latest_p37/lib/python3.7/site-packages (from wordcloud) (9.4.0)\n",
      "Requirement already satisfied: fonttools>=4.22.0 in /home/ec2-user/anaconda3/envs/amazonei_pytorch_latest_p37/lib/python3.7/site-packages (from matplotlib->wordcloud) (4.38.0)\n",
      "Requirement already satisfied: cycler>=0.10 in /home/ec2-user/anaconda3/envs/amazonei_pytorch_latest_p37/lib/python3.7/site-packages (from matplotlib->wordcloud) (0.11.0)\n",
      "Requirement already satisfied: packaging>=20.0 in /home/ec2-user/anaconda3/envs/amazonei_pytorch_latest_p37/lib/python3.7/site-packages (from matplotlib->wordcloud) (21.3)\n",
      "Requirement already satisfied: kiwisolver>=1.0.1 in /home/ec2-user/anaconda3/envs/amazonei_pytorch_latest_p37/lib/python3.7/site-packages (from matplotlib->wordcloud) (1.4.4)\n",
      "Requirement already satisfied: python-dateutil>=2.7 in /home/ec2-user/anaconda3/envs/amazonei_pytorch_latest_p37/lib/python3.7/site-packages (from matplotlib->wordcloud) (2.8.2)\n",
      "Requirement already satisfied: pyparsing>=2.2.1 in /home/ec2-user/anaconda3/envs/amazonei_pytorch_latest_p37/lib/python3.7/site-packages (from matplotlib->wordcloud) (3.0.9)\n",
      "Requirement already satisfied: typing-extensions in /home/ec2-user/anaconda3/envs/amazonei_pytorch_latest_p37/lib/python3.7/site-packages (from kiwisolver>=1.0.1->matplotlib->wordcloud) (4.4.0)\n",
      "Requirement already satisfied: six>=1.5 in /home/ec2-user/anaconda3/envs/amazonei_pytorch_latest_p37/lib/python3.7/site-packages (from python-dateutil>=2.7->matplotlib->wordcloud) (1.16.0)\n",
      "Note: you may need to restart the kernel to use updated packages.\n"
     ]
    }
   ],
   "source": [
    "# install Wordcloud\n",
    "%pip install wordcloud"
   ]
  },
  {
   "cell_type": "code",
   "execution_count": 75,
   "metadata": {
    "tags": []
   },
   "outputs": [
    {
     "name": "stdout",
     "output_type": "stream",
     "text": [
      "Looking in indexes: https://pypi.org/simple, https://pip.repos.neuron.amazonaws.com\n",
      "Requirement already satisfied: nltk in /home/ec2-user/anaconda3/envs/amazonei_pytorch_latest_p37/lib/python3.7/site-packages (3.8.1)\n",
      "Requirement already satisfied: tqdm in /home/ec2-user/anaconda3/envs/amazonei_pytorch_latest_p37/lib/python3.7/site-packages (from nltk) (4.64.1)\n",
      "Requirement already satisfied: joblib in /home/ec2-user/anaconda3/envs/amazonei_pytorch_latest_p37/lib/python3.7/site-packages (from nltk) (1.2.0)\n",
      "Requirement already satisfied: click in /home/ec2-user/anaconda3/envs/amazonei_pytorch_latest_p37/lib/python3.7/site-packages (from nltk) (8.1.3)\n",
      "Requirement already satisfied: regex>=2021.8.3 in /home/ec2-user/anaconda3/envs/amazonei_pytorch_latest_p37/lib/python3.7/site-packages (from nltk) (2022.10.31)\n",
      "Requirement already satisfied: importlib-metadata in /home/ec2-user/anaconda3/envs/amazonei_pytorch_latest_p37/lib/python3.7/site-packages (from click->nltk) (4.11.4)\n",
      "Requirement already satisfied: zipp>=0.5 in /home/ec2-user/anaconda3/envs/amazonei_pytorch_latest_p37/lib/python3.7/site-packages (from importlib-metadata->click->nltk) (3.11.0)\n",
      "Requirement already satisfied: typing-extensions>=3.6.4 in /home/ec2-user/anaconda3/envs/amazonei_pytorch_latest_p37/lib/python3.7/site-packages (from importlib-metadata->click->nltk) (4.4.0)\n",
      "Note: you may need to restart the kernel to use updated packages.\n"
     ]
    }
   ],
   "source": [
    "%pip install nltk"
   ]
  },
  {
   "cell_type": "code",
   "execution_count": 76,
   "metadata": {
    "tags": []
   },
   "outputs": [],
   "source": [
    "# import packages\n",
    "import pandas as pd\n",
    "import numpy as np\n",
    "import seaborn as sns\n",
    "import matplotlib.pyplot as plt\n",
    "import json\n",
    "from sklearn.model_selection import train_test_split\n",
    "import sagemaker\n",
    "from sagemaker.estimator import Estimator \n",
    "from sagemaker import get_execution_role\n",
    "import boto3\n",
    "from sagemaker import image_uris\n",
    "import nltk\n",
    "from nltk.tokenize import word_tokenize\n",
    "from nltk.corpus import stopwords\n",
    "from nltk.stem import WordNetLemmatizer\n",
    "import time\n",
    "from time import gmtime, strftime\n",
    "from PIL import Image\n",
    "from wordcloud import WordCloud, STOPWORDS, ImageColorGenerator\n",
    "import string\n",
    "import re"
   ]
  },
  {
   "cell_type": "code",
   "execution_count": 77,
   "metadata": {
    "tags": []
   },
   "outputs": [
    {
     "name": "stderr",
     "output_type": "stream",
     "text": [
      "[nltk_data] Downloading package punkt to /home/ec2-user/nltk_data...\n",
      "[nltk_data]   Package punkt is already up-to-date!\n"
     ]
    },
    {
     "data": {
      "text/plain": [
       "True"
      ]
     },
     "execution_count": 77,
     "metadata": {},
     "output_type": "execute_result"
    }
   ],
   "source": [
    "#download ntlk module\n",
    "nltk.download('punkt')"
   ]
  },
  {
   "cell_type": "code",
   "execution_count": 78,
   "metadata": {
    "tags": []
   },
   "outputs": [
    {
     "name": "stderr",
     "output_type": "stream",
     "text": [
      "[nltk_data] Downloading package stopwords to\n",
      "[nltk_data]     /home/ec2-user/nltk_data...\n",
      "[nltk_data]   Package stopwords is already up-to-date!\n"
     ]
    },
    {
     "data": {
      "text/plain": [
       "True"
      ]
     },
     "execution_count": 78,
     "metadata": {},
     "output_type": "execute_result"
    }
   ],
   "source": [
    "#download ntlk stopwords\n",
    "nltk.download('stopwords')"
   ]
  },
  {
   "cell_type": "code",
   "execution_count": 79,
   "metadata": {
    "tags": []
   },
   "outputs": [
    {
     "name": "stderr",
     "output_type": "stream",
     "text": [
      "[nltk_data] Downloading package wordnet to /home/ec2-user/nltk_data...\n",
      "[nltk_data]   Package wordnet is already up-to-date!\n"
     ]
    },
    {
     "data": {
      "text/plain": [
       "True"
      ]
     },
     "execution_count": 79,
     "metadata": {},
     "output_type": "execute_result"
    }
   ],
   "source": [
    "#ntlk corpus reader\n",
    "nltk.download('wordnet')"
   ]
  },
  {
   "cell_type": "code",
   "execution_count": 80,
   "metadata": {
    "tags": []
   },
   "outputs": [
    {
     "data": {
      "text/html": [
       "<div>\n",
       "<style scoped>\n",
       "    .dataframe tbody tr th:only-of-type {\n",
       "        vertical-align: middle;\n",
       "    }\n",
       "\n",
       "    .dataframe tbody tr th {\n",
       "        vertical-align: top;\n",
       "    }\n",
       "\n",
       "    .dataframe thead th {\n",
       "        text-align: right;\n",
       "    }\n",
       "</style>\n",
       "<table border=\"1\" class=\"dataframe\">\n",
       "  <thead>\n",
       "    <tr style=\"text-align: right;\">\n",
       "      <th></th>\n",
       "      <th>Review</th>\n",
       "      <th>Rating</th>\n",
       "    </tr>\n",
       "  </thead>\n",
       "  <tbody>\n",
       "    <tr>\n",
       "      <th>0</th>\n",
       "      <td>nice hotel expensive parking got good deal sta...</td>\n",
       "      <td>4</td>\n",
       "    </tr>\n",
       "    <tr>\n",
       "      <th>1</th>\n",
       "      <td>ok nothing special charge diamond member hilto...</td>\n",
       "      <td>2</td>\n",
       "    </tr>\n",
       "    <tr>\n",
       "      <th>2</th>\n",
       "      <td>nice rooms not 4* experience hotel monaco seat...</td>\n",
       "      <td>3</td>\n",
       "    </tr>\n",
       "    <tr>\n",
       "      <th>3</th>\n",
       "      <td>unique, great stay, wonderful time hotel monac...</td>\n",
       "      <td>5</td>\n",
       "    </tr>\n",
       "    <tr>\n",
       "      <th>4</th>\n",
       "      <td>great stay great stay, went seahawk game aweso...</td>\n",
       "      <td>5</td>\n",
       "    </tr>\n",
       "    <tr>\n",
       "      <th>5</th>\n",
       "      <td>love monaco staff husband stayed hotel crazy w...</td>\n",
       "      <td>5</td>\n",
       "    </tr>\n",
       "    <tr>\n",
       "      <th>6</th>\n",
       "      <td>cozy stay rainy city, husband spent 7 nights m...</td>\n",
       "      <td>5</td>\n",
       "    </tr>\n",
       "    <tr>\n",
       "      <th>7</th>\n",
       "      <td>excellent staff, housekeeping quality hotel ch...</td>\n",
       "      <td>4</td>\n",
       "    </tr>\n",
       "    <tr>\n",
       "      <th>8</th>\n",
       "      <td>hotel stayed hotel monaco cruise, rooms genero...</td>\n",
       "      <td>5</td>\n",
       "    </tr>\n",
       "    <tr>\n",
       "      <th>9</th>\n",
       "      <td>excellent stayed hotel monaco past w/e delight...</td>\n",
       "      <td>5</td>\n",
       "    </tr>\n",
       "  </tbody>\n",
       "</table>\n",
       "</div>"
      ],
      "text/plain": [
       "                                              Review  Rating\n",
       "0  nice hotel expensive parking got good deal sta...       4\n",
       "1  ok nothing special charge diamond member hilto...       2\n",
       "2  nice rooms not 4* experience hotel monaco seat...       3\n",
       "3  unique, great stay, wonderful time hotel monac...       5\n",
       "4  great stay great stay, went seahawk game aweso...       5\n",
       "5  love monaco staff husband stayed hotel crazy w...       5\n",
       "6  cozy stay rainy city, husband spent 7 nights m...       5\n",
       "7  excellent staff, housekeeping quality hotel ch...       4\n",
       "8  hotel stayed hotel monaco cruise, rooms genero...       5\n",
       "9  excellent stayed hotel monaco past w/e delight...       5"
      ]
     },
     "execution_count": 80,
     "metadata": {},
     "output_type": "execute_result"
    }
   ],
   "source": [
    "# Read the data\n",
    "review = pd.read_csv(\"tripadvisor_hotel_reviews.csv\")\n",
    "review.head(10)"
   ]
  },
  {
   "cell_type": "code",
   "execution_count": 81,
   "metadata": {
    "tags": []
   },
   "outputs": [
    {
     "data": {
      "text/plain": [
       "Review    0\n",
       "Rating    0\n",
       "dtype: int64"
      ]
     },
     "execution_count": 81,
     "metadata": {},
     "output_type": "execute_result"
    }
   ],
   "source": [
    "# missing values\n",
    "review.isnull().sum()"
   ]
  },
  {
   "cell_type": "code",
   "execution_count": 82,
   "metadata": {
    "tags": []
   },
   "outputs": [
    {
     "data": {
      "text/html": [
       "<div>\n",
       "<style scoped>\n",
       "    .dataframe tbody tr th:only-of-type {\n",
       "        vertical-align: middle;\n",
       "    }\n",
       "\n",
       "    .dataframe tbody tr th {\n",
       "        vertical-align: top;\n",
       "    }\n",
       "\n",
       "    .dataframe thead th {\n",
       "        text-align: right;\n",
       "    }\n",
       "</style>\n",
       "<table border=\"1\" class=\"dataframe\">\n",
       "  <thead>\n",
       "    <tr style=\"text-align: right;\">\n",
       "      <th></th>\n",
       "      <th>Rating</th>\n",
       "    </tr>\n",
       "  </thead>\n",
       "  <tbody>\n",
       "    <tr>\n",
       "      <th>count</th>\n",
       "      <td>20491.000000</td>\n",
       "    </tr>\n",
       "    <tr>\n",
       "      <th>mean</th>\n",
       "      <td>3.952223</td>\n",
       "    </tr>\n",
       "    <tr>\n",
       "      <th>std</th>\n",
       "      <td>1.233030</td>\n",
       "    </tr>\n",
       "    <tr>\n",
       "      <th>min</th>\n",
       "      <td>1.000000</td>\n",
       "    </tr>\n",
       "    <tr>\n",
       "      <th>25%</th>\n",
       "      <td>3.000000</td>\n",
       "    </tr>\n",
       "    <tr>\n",
       "      <th>50%</th>\n",
       "      <td>4.000000</td>\n",
       "    </tr>\n",
       "    <tr>\n",
       "      <th>75%</th>\n",
       "      <td>5.000000</td>\n",
       "    </tr>\n",
       "    <tr>\n",
       "      <th>max</th>\n",
       "      <td>5.000000</td>\n",
       "    </tr>\n",
       "  </tbody>\n",
       "</table>\n",
       "</div>"
      ],
      "text/plain": [
       "             Rating\n",
       "count  20491.000000\n",
       "mean       3.952223\n",
       "std        1.233030\n",
       "min        1.000000\n",
       "25%        3.000000\n",
       "50%        4.000000\n",
       "75%        5.000000\n",
       "max        5.000000"
      ]
     },
     "execution_count": 82,
     "metadata": {},
     "output_type": "execute_result"
    }
   ],
   "source": [
    "# information about the data\n",
    "review.describe()"
   ]
  },
  {
   "cell_type": "code",
   "execution_count": 83,
   "metadata": {
    "tags": []
   },
   "outputs": [
    {
     "data": {
      "text/html": [
       "<div>\n",
       "<style scoped>\n",
       "    .dataframe tbody tr th:only-of-type {\n",
       "        vertical-align: middle;\n",
       "    }\n",
       "\n",
       "    .dataframe tbody tr th {\n",
       "        vertical-align: top;\n",
       "    }\n",
       "\n",
       "    .dataframe thead tr th {\n",
       "        text-align: left;\n",
       "    }\n",
       "\n",
       "    .dataframe thead tr:last-of-type th {\n",
       "        text-align: right;\n",
       "    }\n",
       "</style>\n",
       "<table border=\"1\" class=\"dataframe\">\n",
       "  <thead>\n",
       "    <tr>\n",
       "      <th></th>\n",
       "      <th colspan=\"4\" halign=\"left\">Review</th>\n",
       "    </tr>\n",
       "    <tr>\n",
       "      <th></th>\n",
       "      <th>count</th>\n",
       "      <th>unique</th>\n",
       "      <th>top</th>\n",
       "      <th>freq</th>\n",
       "    </tr>\n",
       "    <tr>\n",
       "      <th>Rating</th>\n",
       "      <th></th>\n",
       "      <th></th>\n",
       "      <th></th>\n",
       "      <th></th>\n",
       "    </tr>\n",
       "  </thead>\n",
       "  <tbody>\n",
       "    <tr>\n",
       "      <th>1</th>\n",
       "      <td>1421</td>\n",
       "      <td>1421</td>\n",
       "      <td>horrible customer service hotel stay february ...</td>\n",
       "      <td>1</td>\n",
       "    </tr>\n",
       "    <tr>\n",
       "      <th>2</th>\n",
       "      <td>1793</td>\n",
       "      <td>1793</td>\n",
       "      <td>ok nothing special charge diamond member hilto...</td>\n",
       "      <td>1</td>\n",
       "    </tr>\n",
       "    <tr>\n",
       "      <th>3</th>\n",
       "      <td>2184</td>\n",
       "      <td>2184</td>\n",
       "      <td>nice rooms not 4* experience hotel monaco seat...</td>\n",
       "      <td>1</td>\n",
       "    </tr>\n",
       "    <tr>\n",
       "      <th>4</th>\n",
       "      <td>6039</td>\n",
       "      <td>6039</td>\n",
       "      <td>nice hotel expensive parking got good deal sta...</td>\n",
       "      <td>1</td>\n",
       "    </tr>\n",
       "    <tr>\n",
       "      <th>5</th>\n",
       "      <td>9054</td>\n",
       "      <td>9054</td>\n",
       "      <td>unique, great stay, wonderful time hotel monac...</td>\n",
       "      <td>1</td>\n",
       "    </tr>\n",
       "  </tbody>\n",
       "</table>\n",
       "</div>"
      ],
      "text/plain": [
       "       Review                                                               \n",
       "        count unique                                                top freq\n",
       "Rating                                                                      \n",
       "1        1421   1421  horrible customer service hotel stay february ...    1\n",
       "2        1793   1793  ok nothing special charge diamond member hilto...    1\n",
       "3        2184   2184  nice rooms not 4* experience hotel monaco seat...    1\n",
       "4        6039   6039  nice hotel expensive parking got good deal sta...    1\n",
       "5        9054   9054  unique, great stay, wonderful time hotel monac...    1"
      ]
     },
     "execution_count": 83,
     "metadata": {},
     "output_type": "execute_result"
    }
   ],
   "source": [
    "# group by to see how many records there are for each label, in this case how many rating of 1 to 5 star\n",
    "\n",
    "review.groupby('Rating').describe()"
   ]
  },
  {
   "cell_type": "code",
   "execution_count": 84,
   "metadata": {
    "tags": []
   },
   "outputs": [
    {
     "data": {
      "image/png": "[encoded data removed]",
      "text/plain": [
       "<Figure size 1000x700 with 1 Axes>"
      ]
     },
     "metadata": {},
     "output_type": "display_data"
    }
   ],
   "source": [
    "# graph show the distributing of the rating and the numers of ratings\n",
    "\n",
    "countplt, show = plt.subplots(figsize = (10,7))\n",
    "show =sns.countplot(data=review,x='Rating')"
   ]
  },
  {
   "cell_type": "code",
   "execution_count": 85,
   "metadata": {
    "tags": []
   },
   "outputs": [
    {
     "data": {
      "image/png": "[encoded data removed]",
      "text/plain": [
       "<Figure size 640x480 with 1 Axes>"
      ]
     },
     "metadata": {},
     "output_type": "display_data"
    }
   ],
   "source": [
    "# word cloud\n",
    "text = \" \".join(review for review in review['Review'])\n",
    "\n",
    "# Generate a word cloud image\n",
    "wordcloud = WordCloud(max_font_size=50, max_words=100, background_color=\"white\").generate(text)\n",
    "\n",
    "# Display the generated image:\n",
    "# the matplotlib way:\n",
    "plt.imshow(wordcloud, interpolation='bilinear')\n",
    "plt.axis(\"off\")\n",
    "plt.show()"
   ]
  },
  {
   "cell_type": "markdown",
   "metadata": {},
   "source": [
    "### Data Insight\n",
    "From .describe() we got the response of (20490,2), Which means the data has 20,490 unique reviews. Also we got the Rating Mean is 3.95 which shows the average review is 4.95. From the head(10) we can see the insight of the detailed review of the top 10 column, and we can see the correlation if the reviews with the rating with some keywords -- \"NICE HOTEL\" got a rating of 4, \"NOTHING SPECIAL\" got a rating of 2. From isnull() we got that the data has no missing value which helps with the accuracy of the future predicting. From the graph we can have a better view of the distribution of the rating is heavy above 3. And from the word cloud we can see the frequency of some words like \"great,nice,problem\" which are some key words for analysis.\n",
    "\n",
    "### Data Transformating\n",
    "We first clean up the data before apply predicing method."
   ]
  },
  {
   "cell_type": "code",
   "execution_count": 86,
   "metadata": {
    "tags": []
   },
   "outputs": [
    {
     "data": {
      "text/plain": [
       "0        nice hotel expensive parking got good deal sta...\n",
       "1        ok nothing special charge diamond member hilto...\n",
       "2        nice rooms not 4* experience hotel monaco seat...\n",
       "3        unique, great stay, wonderful time hotel monac...\n",
       "4        great stay great stay, went seahawk game aweso...\n",
       "                               ...                        \n",
       "20486    best kept secret 3rd time staying charm, not 5...\n",
       "20487    great location price view hotel great quick pl...\n",
       "20488    ok just looks nice modern outside, desk staff ...\n",
       "20489    hotel theft ruined vacation hotel opened sept ...\n",
       "20490    people talking, ca n't believe excellent ratin...\n",
       "Name: Review, Length: 20491, dtype: object"
      ]
     },
     "execution_count": 86,
     "metadata": {},
     "output_type": "execute_result"
    }
   ],
   "source": [
    "# change all text to lower case \n",
    "review['Review'] = review['Review'].str.lower()\n",
    "review['Review']"
   ]
  },
  {
   "cell_type": "code",
   "execution_count": 87,
   "metadata": {
    "tags": []
   },
   "outputs": [
    {
     "data": {
      "text/html": [
       "<div>\n",
       "<style scoped>\n",
       "    .dataframe tbody tr th:only-of-type {\n",
       "        vertical-align: middle;\n",
       "    }\n",
       "\n",
       "    .dataframe tbody tr th {\n",
       "        vertical-align: top;\n",
       "    }\n",
       "\n",
       "    .dataframe thead th {\n",
       "        text-align: right;\n",
       "    }\n",
       "</style>\n",
       "<table border=\"1\" class=\"dataframe\">\n",
       "  <thead>\n",
       "    <tr style=\"text-align: right;\">\n",
       "      <th></th>\n",
       "      <th>Review</th>\n",
       "      <th>Rating</th>\n",
       "    </tr>\n",
       "  </thead>\n",
       "  <tbody>\n",
       "    <tr>\n",
       "      <th>0</th>\n",
       "      <td>[nice, hotel, expensive, parking, got, good, d...</td>\n",
       "      <td>4</td>\n",
       "    </tr>\n",
       "    <tr>\n",
       "      <th>1</th>\n",
       "      <td>[ok, nothing, special, charge, diamond, member...</td>\n",
       "      <td>2</td>\n",
       "    </tr>\n",
       "    <tr>\n",
       "      <th>2</th>\n",
       "      <td>[nice, rooms, not, experience, hotel, monaco, ...</td>\n",
       "      <td>3</td>\n",
       "    </tr>\n",
       "    <tr>\n",
       "      <th>3</th>\n",
       "      <td>[unique, great, stay, wonderful, time, hotel, ...</td>\n",
       "      <td>5</td>\n",
       "    </tr>\n",
       "    <tr>\n",
       "      <th>4</th>\n",
       "      <td>[great, stay, great, stay, went, seahawk, game...</td>\n",
       "      <td>5</td>\n",
       "    </tr>\n",
       "    <tr>\n",
       "      <th>5</th>\n",
       "      <td>[love, monaco, staff, husband, stayed, hotel, ...</td>\n",
       "      <td>5</td>\n",
       "    </tr>\n",
       "    <tr>\n",
       "      <th>6</th>\n",
       "      <td>[cozy, stay, rainy, city, husband, spent, nigh...</td>\n",
       "      <td>5</td>\n",
       "    </tr>\n",
       "    <tr>\n",
       "      <th>7</th>\n",
       "      <td>[excellent, staff, housekeeping, quality, hote...</td>\n",
       "      <td>4</td>\n",
       "    </tr>\n",
       "    <tr>\n",
       "      <th>8</th>\n",
       "      <td>[hotel, stayed, hotel, monaco, cruise, rooms, ...</td>\n",
       "      <td>5</td>\n",
       "    </tr>\n",
       "    <tr>\n",
       "      <th>9</th>\n",
       "      <td>[excellent, stayed, hotel, monaco, past, delig...</td>\n",
       "      <td>5</td>\n",
       "    </tr>\n",
       "  </tbody>\n",
       "</table>\n",
       "</div>"
      ],
      "text/plain": [
       "                                              Review  Rating\n",
       "0  [nice, hotel, expensive, parking, got, good, d...       4\n",
       "1  [ok, nothing, special, charge, diamond, member...       2\n",
       "2  [nice, rooms, not, experience, hotel, monaco, ...       3\n",
       "3  [unique, great, stay, wonderful, time, hotel, ...       5\n",
       "4  [great, stay, great, stay, went, seahawk, game...       5\n",
       "5  [love, monaco, staff, husband, stayed, hotel, ...       5\n",
       "6  [cozy, stay, rainy, city, husband, spent, nigh...       5\n",
       "7  [excellent, staff, housekeeping, quality, hote...       4\n",
       "8  [hotel, stayed, hotel, monaco, cruise, rooms, ...       5\n",
       "9  [excellent, stayed, hotel, monaco, past, delig...       5"
      ]
     },
     "execution_count": 87,
     "metadata": {},
     "output_type": "execute_result"
    }
   ],
   "source": [
    "#change to lower case \n",
    "review['Review'] = review['Review'].str.lower() \n",
    "#remove url\n",
    "review['Review'] = review['Review'].replace(r'http\\S+', '', regex=True)\n",
    "#remove @ but does not remove the @ name \n",
    "review['Review'] = review['Review'].replace(r'@', '', regex=True)\n",
    "# remoce punctuation\n",
    "review['Review'] = review['Review'].apply(lambda x: x.translate (str.maketrans('', '', string.punctuation)))\n",
    "# remove numbers\n",
    "review['Review'] = review['Review'].apply(lambda x: x.translate (str.maketrans('', '', string.digits)))\n",
    "# stop words remove\n",
    "stop_word = stopwords.words('english')\n",
    "# keep no and not in the review\n",
    "stop_word.remove('not')\n",
    "stop_word.remove('no')\n",
    "review['Review'] = review['Review'].apply(lambda x: ' '.join([word for word in x.split() if word not in (stop_word)]))\n",
    "# tokenize \n",
    "review['Review'] = review['Review'].apply(word_tokenize)\n",
    "# show the first 10 rows of the data \n",
    "review.head(10)"
   ]
  },
  {
   "cell_type": "code",
   "execution_count": 88,
   "metadata": {
    "tags": []
   },
   "outputs": [
    {
     "data": {
      "text/html": [
       "<div>\n",
       "<style scoped>\n",
       "    .dataframe tbody tr th:only-of-type {\n",
       "        vertical-align: middle;\n",
       "    }\n",
       "\n",
       "    .dataframe tbody tr th {\n",
       "        vertical-align: top;\n",
       "    }\n",
       "\n",
       "    .dataframe thead th {\n",
       "        text-align: right;\n",
       "    }\n",
       "</style>\n",
       "<table border=\"1\" class=\"dataframe\">\n",
       "  <thead>\n",
       "    <tr style=\"text-align: right;\">\n",
       "      <th></th>\n",
       "      <th>Review</th>\n",
       "      <th>Rating</th>\n",
       "    </tr>\n",
       "  </thead>\n",
       "  <tbody>\n",
       "    <tr>\n",
       "      <th>0</th>\n",
       "      <td>[nice, hotel, expensive, parking, got, good, d...</td>\n",
       "      <td>4</td>\n",
       "    </tr>\n",
       "    <tr>\n",
       "      <th>1</th>\n",
       "      <td>[ok, nothing, special, charge, diamond, member...</td>\n",
       "      <td>2</td>\n",
       "    </tr>\n",
       "    <tr>\n",
       "      <th>2</th>\n",
       "      <td>[nice, room, not, experience, hotel, monaco, s...</td>\n",
       "      <td>3</td>\n",
       "    </tr>\n",
       "    <tr>\n",
       "      <th>3</th>\n",
       "      <td>[unique, great, stay, wonderful, time, hotel, ...</td>\n",
       "      <td>5</td>\n",
       "    </tr>\n",
       "    <tr>\n",
       "      <th>4</th>\n",
       "      <td>[great, stay, great, stay, went, seahawk, game...</td>\n",
       "      <td>5</td>\n",
       "    </tr>\n",
       "    <tr>\n",
       "      <th>...</th>\n",
       "      <td>...</td>\n",
       "      <td>...</td>\n",
       "    </tr>\n",
       "    <tr>\n",
       "      <th>20486</th>\n",
       "      <td>[best, kept, secret, rd, time, staying, charm,...</td>\n",
       "      <td>5</td>\n",
       "    </tr>\n",
       "    <tr>\n",
       "      <th>20487</th>\n",
       "      <td>[great, location, price, view, hotel, great, q...</td>\n",
       "      <td>4</td>\n",
       "    </tr>\n",
       "    <tr>\n",
       "      <th>20488</th>\n",
       "      <td>[ok, look, nice, modern, outside, desk, staff,...</td>\n",
       "      <td>2</td>\n",
       "    </tr>\n",
       "    <tr>\n",
       "      <th>20489</th>\n",
       "      <td>[hotel, theft, ruined, vacation, hotel, opened...</td>\n",
       "      <td>1</td>\n",
       "    </tr>\n",
       "    <tr>\n",
       "      <th>20490</th>\n",
       "      <td>[people, talking, ca, nt, believe, excellent, ...</td>\n",
       "      <td>2</td>\n",
       "    </tr>\n",
       "  </tbody>\n",
       "</table>\n",
       "<p>20491 rows × 2 columns</p>\n",
       "</div>"
      ],
      "text/plain": [
       "                                                  Review  Rating\n",
       "0      [nice, hotel, expensive, parking, got, good, d...       4\n",
       "1      [ok, nothing, special, charge, diamond, member...       2\n",
       "2      [nice, room, not, experience, hotel, monaco, s...       3\n",
       "3      [unique, great, stay, wonderful, time, hotel, ...       5\n",
       "4      [great, stay, great, stay, went, seahawk, game...       5\n",
       "...                                                  ...     ...\n",
       "20486  [best, kept, secret, rd, time, staying, charm,...       5\n",
       "20487  [great, location, price, view, hotel, great, q...       4\n",
       "20488  [ok, look, nice, modern, outside, desk, staff,...       2\n",
       "20489  [hotel, theft, ruined, vacation, hotel, opened...       1\n",
       "20490  [people, talking, ca, nt, believe, excellent, ...       2\n",
       "\n",
       "[20491 rows x 2 columns]"
      ]
     },
     "execution_count": 88,
     "metadata": {},
     "output_type": "execute_result"
    }
   ],
   "source": [
    "# Lemmatize words\n",
    "word_lemmatizer = WordNetLemmatizer()\n",
    "\n",
    "review['Review'] = review['Review'].apply(lambda x: [word_lemmatizer.lemmatize(word) for word in x])\n",
    "review"
   ]
  },
  {
   "cell_type": "code",
   "execution_count": 89,
   "metadata": {
    "tags": []
   },
   "outputs": [
    {
     "data": {
      "text/html": [
       "<div>\n",
       "<style scoped>\n",
       "    .dataframe tbody tr th:only-of-type {\n",
       "        vertical-align: middle;\n",
       "    }\n",
       "\n",
       "    .dataframe tbody tr th {\n",
       "        vertical-align: top;\n",
       "    }\n",
       "\n",
       "    .dataframe thead th {\n",
       "        text-align: right;\n",
       "    }\n",
       "</style>\n",
       "<table border=\"1\" class=\"dataframe\">\n",
       "  <thead>\n",
       "    <tr style=\"text-align: right;\">\n",
       "      <th></th>\n",
       "      <th>Review</th>\n",
       "      <th>label</th>\n",
       "    </tr>\n",
       "  </thead>\n",
       "  <tbody>\n",
       "    <tr>\n",
       "      <th>0</th>\n",
       "      <td>nice hotel expensive parking got good deal sta...</td>\n",
       "      <td>__label__4</td>\n",
       "    </tr>\n",
       "    <tr>\n",
       "      <th>1</th>\n",
       "      <td>ok nothing special charge diamond member hilto...</td>\n",
       "      <td>__label__2</td>\n",
       "    </tr>\n",
       "    <tr>\n",
       "      <th>2</th>\n",
       "      <td>nice room not experience hotel monaco seattle ...</td>\n",
       "      <td>__label__3</td>\n",
       "    </tr>\n",
       "    <tr>\n",
       "      <th>3</th>\n",
       "      <td>unique great stay wonderful time hotel monaco ...</td>\n",
       "      <td>__label__5</td>\n",
       "    </tr>\n",
       "    <tr>\n",
       "      <th>4</th>\n",
       "      <td>great stay great stay went seahawk game awesom...</td>\n",
       "      <td>__label__5</td>\n",
       "    </tr>\n",
       "    <tr>\n",
       "      <th>...</th>\n",
       "      <td>...</td>\n",
       "      <td>...</td>\n",
       "    </tr>\n",
       "    <tr>\n",
       "      <th>20486</th>\n",
       "      <td>best kept secret rd time staying charm not sta...</td>\n",
       "      <td>__label__5</td>\n",
       "    </tr>\n",
       "    <tr>\n",
       "      <th>20487</th>\n",
       "      <td>great location price view hotel great quick pl...</td>\n",
       "      <td>__label__4</td>\n",
       "    </tr>\n",
       "    <tr>\n",
       "      <th>20488</th>\n",
       "      <td>ok look nice modern outside desk staff nt part...</td>\n",
       "      <td>__label__2</td>\n",
       "    </tr>\n",
       "    <tr>\n",
       "      <th>20489</th>\n",
       "      <td>hotel theft ruined vacation hotel opened sept ...</td>\n",
       "      <td>__label__1</td>\n",
       "    </tr>\n",
       "    <tr>\n",
       "      <th>20490</th>\n",
       "      <td>people talking ca nt believe excellent rating ...</td>\n",
       "      <td>__label__2</td>\n",
       "    </tr>\n",
       "  </tbody>\n",
       "</table>\n",
       "<p>20491 rows × 2 columns</p>\n",
       "</div>"
      ],
      "text/plain": [
       "                                                  Review       label\n",
       "0      nice hotel expensive parking got good deal sta...  __label__4\n",
       "1      ok nothing special charge diamond member hilto...  __label__2\n",
       "2      nice room not experience hotel monaco seattle ...  __label__3\n",
       "3      unique great stay wonderful time hotel monaco ...  __label__5\n",
       "4      great stay great stay went seahawk game awesom...  __label__5\n",
       "...                                                  ...         ...\n",
       "20486  best kept secret rd time staying charm not sta...  __label__5\n",
       "20487  great location price view hotel great quick pl...  __label__4\n",
       "20488  ok look nice modern outside desk staff nt part...  __label__2\n",
       "20489  hotel theft ruined vacation hotel opened sept ...  __label__1\n",
       "20490  people talking ca nt believe excellent rating ...  __label__2\n",
       "\n",
       "[20491 rows x 2 columns]"
      ]
     },
     "execution_count": 89,
     "metadata": {},
     "output_type": "execute_result"
    }
   ],
   "source": [
    "# put it back to sentence\n",
    "review['Review'] = review['Review'].apply(lambda x: ' '.join(x))\n",
    "# add label to the Rating\n",
    "review['label'] = review['Rating'].astype('string')\n",
    "review['label'] = \"__label__\" + review['label']\n",
    "# drop the rating column\n",
    "review = review.drop('Rating', axis=1)\n",
    "review"
   ]
  },
  {
   "cell_type": "markdown",
   "metadata": {},
   "source": [
    "## Training \n",
    "### Training Description\n",
    "We will use supervised learning to achieve the classifaction which we will know the label for the reviews that the user give. \n",
    "\n",
    "1. Model selection: Amazon SageMaker provide pre-built algorithms for text classification - multi class.\n",
    "\n",
    "2. Model training: Once the dataset and model are prepared, the next step is to train the model using SageMaker. This involves specifying hyperparameters, such as the number of epochs, batch size, and learning rate, and starting the training job. SageMaker will automatically spin up the required infrastructure and distribute the training workload across multiple instances to optimize performance.\n",
    "\n",
    "3. Model evaluation: After the model is trained, we will evaluate its performance using accuracy.\n"
   ]
  },
  {
   "cell_type": "code",
   "execution_count": 90,
   "metadata": {
    "tags": []
   },
   "outputs": [],
   "source": [
    "# Data split for training and testing with 80 training and 20 testing\n",
    "train_data, validate_data = train_test_split(review, test_size=0.2)\n",
    "\n",
    "# put the training and validate file to csv\n",
    "train_data.to_csv('review.train', sep=' ', header=False, index=False, quotechar=\" \")\n",
    "validate_data.to_csv('review.validate', sep=' ', header=False, index=False, quotechar=\" \")"
   ]
  },
  {
   "cell_type": "code",
   "execution_count": 91,
   "metadata": {
    "tags": []
   },
   "outputs": [
    {
     "name": "stdout",
     "output_type": "stream",
     "text": [
      "The role is  arn:aws:iam::978402363809:role/LabRole\n",
      "The session is  <sagemaker.session.Session object at 0x7f7114af2f50>\n",
      "The region is  us-east-1\n",
      "The bucket is  sagemaker-us-east-1-978402363809\n"
     ]
    }
   ],
   "source": [
    "# setting up the environment \n",
    "role = get_execution_role()\n",
    "sess = sagemaker.Session() \n",
    "region = sess.boto_session.region_name\n",
    "bucket = sess.default_bucket()\n",
    "print(\"The role is \", role)\n",
    "print(\"The session is \", sess)\n",
    "print(\"The region is \", region)\n",
    "print(\"The bucket is \", bucket)"
   ]
  },
  {
   "cell_type": "code",
   "execution_count": 92,
   "metadata": {
    "tags": []
   },
   "outputs": [
    {
     "name": "stdout",
     "output_type": "stream",
     "text": [
      "s3://sagemaker-us-east-1-978402363809/review/input/train/review.train\n",
      "s3://sagemaker-us-east-1-978402363809/review/input/validate/review.validate\n",
      "s3://sagemaker-us-east-1-978402363809/review/output\n"
     ]
    }
   ],
   "source": [
    "# Copy the file to S3 bucket\n",
    "\n",
    "prefix = 'review'\n",
    "training_data_path = sess.upload_data( path='review.train', key_prefix=prefix + '/input/train') \n",
    "validation_data_path = sess.upload_data( path='review.validate', key_prefix=prefix + '/input/validate')\n",
    "output_data_path = 's3://{}/{}/output'.format(bucket, prefix)\n",
    "print(training_data_path)\n",
    "print(validation_data_path)\n",
    "print(output_data_path)"
   ]
  },
  {
   "cell_type": "code",
   "execution_count": 93,
   "metadata": {
    "tags": []
   },
   "outputs": [],
   "source": [
    "# Create your data channels\n",
    "\n",
    "train_data = sagemaker.inputs.TrainingInput(\n",
    "    training_data_path,\n",
    "    distribution=\"FullyReplicated\",\n",
    "    content_type=\"text/plain\",\n",
    "    s3_data_type=\"S3Prefix\",\n",
    ")\n",
    "validate_data = sagemaker.inputs.TrainingInput(\n",
    "    validation_data_path,\n",
    "    distribution=\"FullyReplicated\",\n",
    "    content_type=\"text/plain\",\n",
    "    s3_data_type=\"S3Prefix\",\n",
    ")\n",
    "data_channels = {\"train\": train_data, \"validation\": validate_data}"
   ]
  },
  {
   "cell_type": "code",
   "execution_count": 94,
   "metadata": {
    "tags": []
   },
   "outputs": [
    {
     "name": "stderr",
     "output_type": "stream",
     "text": [
      "INFO:sagemaker.image_uris:Same images used for training and inference. Defaulting to image scope: inference.\n",
      "INFO:sagemaker.image_uris:Defaulting to the only supported framework/algorithm version: 1.\n",
      "INFO:sagemaker.image_uris:Ignoring unnecessary instance type: None.\n"
     ]
    }
   ],
   "source": [
    "# Create the training container\n",
    "\n",
    "container = image_uris.retrieve(framework='blazingtext',region=region)"
   ]
  },
  {
   "cell_type": "code",
   "execution_count": 95,
   "metadata": {
    "tags": []
   },
   "outputs": [],
   "source": [
    "bt_model = Estimator(\n",
    "    container,\n",
    "    role,\n",
    "    instance_count=1,\n",
    "    instance_type=\"ml.m5.large\",\n",
    "    volume_size=30,\n",
    "    max_run=360000,\n",
    "    input_mode=\"File\",\n",
    "    output_path=output_data_path,\n",
    "    hyperparameters={\n",
    "        \"mode\": \"supervised\"\n",
    "    },\n",
    ")"
   ]
  },
  {
   "cell_type": "markdown",
   "metadata": {},
   "source": [
    "### Hyperparameter Tuning"
   ]
  },
  {
   "cell_type": "code",
   "execution_count": 96,
   "metadata": {
    "tags": []
   },
   "outputs": [],
   "source": [
    "from sagemaker.parameter import IntegerParameter, ContinuousParameter, CategoricalParameter\n",
    "\n",
    "hyperparameter_ranges = {\n",
    "    \"learning_rate\": ContinuousParameter(0.01, 0.1),\n",
    "    \"vector_dim\": IntegerParameter(10, 100),\n",
    "    \"word_ngrams\": IntegerParameter(1, 3),\n",
    "    \"epochs\": IntegerParameter(5, 30),\n",
    "    'batch_size': CategoricalParameter([32,64,128,256,512])\n",
    "}"
   ]
  },
  {
   "cell_type": "code",
   "execution_count": 97,
   "metadata": {
    "tags": []
   },
   "outputs": [],
   "source": [
    "metric_definitions = [\n",
    "    {\"Name\": \"validation:accuracy\", \"Regex\": \"loss (\\S+)\"}\n",
    "]\n",
    "\n",
    "objective_metric_name = \"validation:accuracy\""
   ]
  },
  {
   "cell_type": "code",
   "execution_count": 98,
   "metadata": {
    "tags": []
   },
   "outputs": [],
   "source": [
    "from sagemaker.tuner import HyperparameterTuner\n",
    "\n",
    "tuner = HyperparameterTuner(\n",
    "    bt_model,\n",
    "    objective_metric_name,\n",
    "    hyperparameter_ranges,\n",
    "    metric_definitions,\n",
    "    max_jobs=10,\n",
    "    max_parallel_jobs=2,\n",
    "    objective_type=\"Maximize\"\n",
    ")"
   ]
  },
  {
   "cell_type": "code",
   "execution_count": 99,
   "metadata": {
    "tags": []
   },
   "outputs": [
    {
     "name": "stderr",
     "output_type": "stream",
     "text": [
      "WARNING:sagemaker.estimator:No finished training job found associated with this estimator. Please make sure this estimator is only used for building workflow config\n",
      "WARNING:sagemaker.estimator:No finished training job found associated with this estimator. Please make sure this estimator is only used for building workflow config\n",
      "INFO:sagemaker:Creating hyperparameter tuning job with name: blazingtext-230326-2220\n"
     ]
    },
    {
     "name": "stdout",
     "output_type": "stream",
     "text": [
      "..................................................................................................................!\n"
     ]
    }
   ],
   "source": [
    "# Start the training and tuning\n",
    "\n",
    "tuner.fit(inputs=data_channels, logs=True)"
   ]
  },
  {
   "cell_type": "code",
   "execution_count": 100,
   "metadata": {
    "tags": []
   },
   "outputs": [
    {
     "name": "stdout",
     "output_type": "stream",
     "text": [
      "Best hyerparameter tuning job:blazingtext-230326-2220-008-76ce402e\n",
      "\n",
      "2023-03-26 22:28:27 Starting - Found matching resource for reuse\n",
      "2023-03-26 22:28:27 Downloading - Downloading input data\n",
      "2023-03-26 22:28:27 Training - Training image download completed. Training in progress.\n",
      "2023-03-26 22:28:27 Uploading - Uploading generated training model\n",
      "2023-03-26 22:28:27 Completed - Resource retained for reuse\n",
      "Best parameters found={'_tuning_objective_metric': 'validation:accuracy', 'batch_size': '256', 'epochs': '21', 'learning_rate': '0.09535758448153714', 'mode': 'supervised', 'vector_dim': '51', 'word_ngrams': '3'}\n"
     ]
    }
   ],
   "source": [
    "# Print out the best parameters the tuning job found\n",
    "\n",
    "print(\"Best hyerparameter tuning job:{}\".format(tuner.best_training_job()))\n",
    "print(\"Best parameters found={}\".format(tuner.best_estimator().hyperparameters()))"
   ]
  },
  {
   "cell_type": "markdown",
   "metadata": {},
   "source": [
    "#### Turning\n",
    "For hyperparameter tuning, we used the accuracy which can show the percentage that the model got right. Then we input some common value for the parameter and let it run to find the best fit value in those given values. In this module I want to check the best parameter for learning rate, vector_dim - In natural language processing (NLP), text data is typically encoded as a set of numerical vectors, where each vector represents a particular feature or word in the text. The vector_dim parameter specifies the length of these vectors, epochs, batch_size and word_ngram -  specifies the size of the n-grams used to encode the text data.\n",
    "\n",
    "Best parameters = {'_tuning_objective_metric': 'validation:accuracy', 'batch_size': '128', 'epochs': '27', 'learning_rate': '0.03658245946234011', 'mode': 'supervised', 'vector_dim': '62', 'word_ngrams': '1'}"
   ]
  },
  {
   "cell_type": "code",
   "execution_count": 101,
   "metadata": {
    "tags": []
   },
   "outputs": [],
   "source": [
    "bt_model = Estimator(\n",
    "    container,\n",
    "    role,\n",
    "    instance_count=1,\n",
    "    instance_type=\"ml.m5.large\",\n",
    "    volume_size=30,\n",
    "    max_run=360000,\n",
    "    input_mode=\"File\",\n",
    "    output_path=output_data_path,\n",
    "    hyperparameters={\n",
    "        \"mode\": \"supervised\",\n",
    "        \"batch_size\": 128,\n",
    "        \"epochs\": 27,\n",
    "        \"learning_rate\": 0.03658245946234011,\n",
    "        'vector_dim': 62,\n",
    "        'word_ngrams': 1\n",
    "    },\n",
    ")"
   ]
  },
  {
   "cell_type": "code",
   "execution_count": 102,
   "metadata": {
    "tags": []
   },
   "outputs": [
    {
     "name": "stderr",
     "output_type": "stream",
     "text": [
      "INFO:sagemaker:Creating training-job with name: blazingtext-2023-03-26-22-30-54-438\n"
     ]
    },
    {
     "name": "stdout",
     "output_type": "stream",
     "text": [
      "2023-03-26 22:30:56 Starting - Starting the training job...\n",
      "2023-03-26 22:31:11 Starting - Preparing the instances for training...\n",
      "2023-03-26 22:31:56 Downloading - Downloading input data...\n",
      "2023-03-26 22:32:31 Training - Downloading the training image...\n",
      "2023-03-26 22:32:46 Training - Training image download completed. Training in progress.\u001b[34mArguments: train\u001b[0m\n",
      "\u001b[34m[03/26/2023 22:32:51 WARNING 140165131511616] Loggers have already been setup.\u001b[0m\n",
      "\u001b[34m[03/26/2023 22:32:51 WARNING 140165131511616] Loggers have already been setup.\u001b[0m\n",
      "\u001b[34m[03/26/2023 22:32:51 INFO 140165131511616] nvidia-smi took: 0.025230884552001953 secs to identify 0 gpus\u001b[0m\n",
      "\u001b[34m[03/26/2023 22:32:51 INFO 140165131511616] Running single machine CPU BlazingText training using supervised mode.\u001b[0m\n",
      "\u001b[34mNumber of CPU sockets found in instance is  1\u001b[0m\n",
      "\u001b[34m[03/26/2023 22:32:51 INFO 140165131511616] Processing /opt/ml/input/data/train/review.train . File size: 12.417811393737793 MB\u001b[0m\n",
      "\u001b[34m[03/26/2023 22:32:51 INFO 140165131511616] Processing /opt/ml/input/data/validation/review.validate . File size: 3.0811243057250977 MB\u001b[0m\n",
      "\u001b[34mRead 1M words\u001b[0m\n",
      "\u001b[34mNumber of words:  11932\u001b[0m\n",
      "\u001b[34m##### Alpha: 0.0354  Progress: 3.17%  Million Words/sec: 7.19 #####\u001b[0m\n",
      "\u001b[34m##### Alpha: 0.0330  Progress: 9.75%  Million Words/sec: 7.36 #####\u001b[0m\n",
      "\u001b[34m##### Alpha: 0.0306  Progress: 16.35%  Million Words/sec: 7.41 #####\u001b[0m\n",
      "\u001b[34m##### Alpha: 0.0283  Progress: 22.68%  Million Words/sec: 7.34 #####\u001b[0m\n",
      "\u001b[34m##### Alpha: 0.0260  Progress: 29.01%  Million Words/sec: 7.30 #####\u001b[0m\n",
      "\u001b[34m##### Alpha: 0.0237  Progress: 35.25%  Million Words/sec: 7.26 #####\u001b[0m\n",
      "\u001b[34m##### Alpha: 0.0214  Progress: 41.59%  Million Words/sec: 7.25 #####\u001b[0m\n",
      "\u001b[34m##### Alpha: 0.0190  Progress: 48.10%  Million Words/sec: 7.26 #####\u001b[0m\n",
      "\u001b[34m##### Alpha: 0.0165  Progress: 54.76%  Million Words/sec: 7.30 #####\u001b[0m\n",
      "\u001b[34m##### Alpha: 0.0142  Progress: 61.08%  Million Words/sec: 7.28 #####\u001b[0m\n",
      "\u001b[34m##### Alpha: 0.0118  Progress: 67.65%  Million Words/sec: 7.30 #####\u001b[0m\n",
      "\u001b[34m##### Alpha: 0.0100  Progress: 72.68%  Million Words/sec: 7.32 #####\u001b[0m\n",
      "\u001b[34m##### Alpha: 0.0076  Progress: 79.34%  Million Words/sec: 7.33 #####\u001b[0m\n",
      "\u001b[34m##### Alpha: 0.0052  Progress: 85.87%  Million Words/sec: 7.34 #####\u001b[0m\n",
      "\u001b[34m##### Alpha: 0.0033  Progress: 90.94%  Million Words/sec: 7.36 #####\u001b[0m\n",
      "\u001b[34m##### Alpha: 0.0009  Progress: 97.56%  Million Words/sec: 7.37 #####\u001b[0m\n",
      "\u001b[34m##### Alpha: 0.0000  Progress: 100.00%  Million Words/sec: 7.31 #####\u001b[0m\n",
      "\u001b[34mTraining finished.\u001b[0m\n",
      "\u001b[34mAverage throughput in Million words/sec: 7.31\u001b[0m\n",
      "\u001b[34mTotal training time in seconds: 6.21\u001b[0m\n",
      "\u001b[34m#train_accuracy: 0.7088\u001b[0m\n",
      "\u001b[34mNumber of train examples: 16392\u001b[0m\n",
      "\u001b[34m#validation_accuracy: 0.6238\u001b[0m\n",
      "\u001b[34mNumber of validation examples: 4099\u001b[0m\n",
      "\n",
      "2023-03-26 22:33:17 Uploading - Uploading generated training model\n",
      "2023-03-26 22:33:17 Completed - Training job completed\n",
      "Training seconds: 82\n",
      "Billable seconds: 82\n"
     ]
    }
   ],
   "source": [
    "# Train the model\n",
    "\n",
    "bt_model.fit(inputs=data_channels, logs=True)"
   ]
  },
  {
   "cell_type": "markdown",
   "metadata": {},
   "source": [
    "### Model Evaluation\n",
    "The result of the algorithm is train_accuracy: 0.7088, validation_accuracy: 0.6238. Considering we need to classify 5 different labels this accuracy is acceptable. \n",
    "## Deploy\n",
    "### Model Deployment\n",
    "To deploy the model, we use the deploy() method of the SageMaker Estimator use the HyperparameterTuner object that represents the trained model. "
   ]
  },
  {
   "cell_type": "code",
   "execution_count": 103,
   "metadata": {
    "tags": []
   },
   "outputs": [
    {
     "data": {
      "text/plain": [
       "'s3://sagemaker-us-east-1-978402363809/review/output/blazingtext-2023-03-26-22-30-54-438/output/model.tar.gz'"
      ]
     },
     "execution_count": 103,
     "metadata": {},
     "output_type": "execute_result"
    }
   ],
   "source": [
    "# Retrieve model data from training job\n",
    "\n",
    "training_job_model_data = bt_model.model_data\n",
    "training_job_model_data"
   ]
  },
  {
   "cell_type": "code",
   "execution_count": 104,
   "metadata": {
    "tags": []
   },
   "outputs": [
    {
     "name": "stdout",
     "output_type": "stream",
     "text": [
      "Model name is review-bt-model2023-03-26-22-33-47\n"
     ]
    }
   ],
   "source": [
    "# Create a unique model name so it won't overwrite ones taht are already there using date and time\n",
    "\n",
    "deployed_BlazingText_model_name = \"review-bt-model\" + strftime(\"%Y-%m-%d-%H-%M-%S\", gmtime())\n",
    "print(\"Model name is \" + deployed_BlazingText_model_name)"
   ]
  },
  {
   "cell_type": "code",
   "execution_count": 105,
   "metadata": {
    "tags": []
   },
   "outputs": [
    {
     "name": "stdout",
     "output_type": "stream",
     "text": [
      "Model Arn: arn:aws:sagemaker:us-east-1:978402363809:model/review-bt-model2023-03-26-22-33-47\n"
     ]
    }
   ],
   "source": [
    "# Container Definition https://docs.aws.amazon.com/sagemaker/latest/APIReference/API_ContainerDefinition.html\n",
    "\n",
    "client = boto3.client(service_name=\"sagemaker\")\n",
    "\n",
    "create_model_response = client.create_model(\n",
    "    ModelName=deployed_BlazingText_model_name,\n",
    "    Containers=[\n",
    "        {\n",
    "            \"Image\": container, # use the same container defined in the estimator\n",
    "            \"ModelDataUrl\": training_job_model_data\n",
    "        }\n",
    "    ],\n",
    "    ExecutionRoleArn=role,\n",
    ")\n",
    "\n",
    "print(\"Model Arn: \" + create_model_response[\"ModelArn\"])"
   ]
  },
  {
   "cell_type": "code",
   "execution_count": 106,
   "metadata": {
    "tags": []
   },
   "outputs": [
    {
     "name": "stdout",
     "output_type": "stream",
     "text": [
      "Endpoint Configuration Arn: arn:aws:sagemaker:us-east-1:978402363809:endpoint-config/blazingtext-serverless-epc2023-03-26-22-33-48\n"
     ]
    }
   ],
   "source": [
    "review_epc_name = \"blazingtext-serverless-epc\" + strftime(\"%Y-%m-%d-%H-%M-%S\", gmtime())\n",
    "\n",
    "endpoint_config_response = client.create_endpoint_config(\n",
    "    EndpointConfigName=review_epc_name,\n",
    "    ProductionVariants=[\n",
    "        {\n",
    "            \"VariantName\": \"btVariant\",\n",
    "            \"ModelName\": deployed_BlazingText_model_name,\n",
    "            \"ServerlessConfig\": {\n",
    "                \"MemorySizeInMB\": 4096,\n",
    "                \"MaxConcurrency\": 1,\n",
    "            },\n",
    "        },\n",
    "    ],\n",
    ")\n",
    "\n",
    "print(\"Endpoint Configuration Arn: \" + endpoint_config_response[\"EndpointConfigArn\"])"
   ]
  },
  {
   "cell_type": "code",
   "execution_count": 107,
   "metadata": {
    "tags": []
   },
   "outputs": [
    {
     "name": "stdout",
     "output_type": "stream",
     "text": [
      "Endpoint Arn: arn:aws:sagemaker:us-east-1:978402363809:endpoint/twitter-serverless-ep2023-03-26-22-33-48\n"
     ]
    }
   ],
   "source": [
    "review_ep_name = \"twitter-serverless-ep\" + strftime(\"%Y-%m-%d-%H-%M-%S\", gmtime())\n",
    "\n",
    "create_endpoint_response = client.create_endpoint(\n",
    "    EndpointName=review_ep_name,\n",
    "    EndpointConfigName=review_epc_name,\n",
    ")\n",
    "\n",
    "print(\"Endpoint Arn: \" + create_endpoint_response[\"EndpointArn\"])"
   ]
  },
  {
   "cell_type": "code",
   "execution_count": 108,
   "metadata": {
    "tags": []
   },
   "outputs": [
    {
     "name": "stdout",
     "output_type": "stream",
     "text": [
      "Creating\n",
      "Creating\n",
      "Creating\n",
      "Creating\n",
      "Creating\n",
      "Creating\n",
      "Creating\n",
      "InService\n"
     ]
    },
    {
     "data": {
      "text/plain": [
       "{'EndpointName': 'twitter-serverless-ep2023-03-26-22-33-48',\n",
       " 'EndpointArn': 'arn:aws:sagemaker:us-east-1:978402363809:endpoint/twitter-serverless-ep2023-03-26-22-33-48',\n",
       " 'EndpointConfigName': 'blazingtext-serverless-epc2023-03-26-22-33-48',\n",
       " 'ProductionVariants': [{'VariantName': 'btVariant',\n",
       "   'DeployedImages': [{'SpecifiedImage': '811284229777.dkr.ecr.us-east-1.amazonaws.com/blazingtext:1',\n",
       "     'ResolvedImage': '811284229777.dkr.ecr.us-east-1.amazonaws.com/blazingtext@sha256:f4a2d23762e88d6b992495a9a6384fd64f819fcbc2e143d8af222637ed6822ff',\n",
       "     'ResolutionTime': datetime.datetime(2023, 3, 26, 22, 33, 49, 550000, tzinfo=tzlocal())}],\n",
       "   'CurrentWeight': 1.0,\n",
       "   'DesiredWeight': 1.0,\n",
       "   'CurrentInstanceCount': 0,\n",
       "   'CurrentServerlessConfig': {'MemorySizeInMB': 4096, 'MaxConcurrency': 1}}],\n",
       " 'EndpointStatus': 'InService',\n",
       " 'CreationTime': datetime.datetime(2023, 3, 26, 22, 33, 49, 51000, tzinfo=tzlocal()),\n",
       " 'LastModifiedTime': datetime.datetime(2023, 3, 26, 22, 35, 26, 622000, tzinfo=tzlocal()),\n",
       " 'ResponseMetadata': {'RequestId': 'c62038f7-9d8b-4994-bbb3-364b14e8fdcf',\n",
       "  'HTTPStatusCode': 200,\n",
       "  'HTTPHeaders': {'x-amzn-requestid': 'c62038f7-9d8b-4994-bbb3-364b14e8fdcf',\n",
       "   'content-type': 'application/x-amz-json-1.1',\n",
       "   'content-length': '796',\n",
       "   'date': 'Sun, 26 Mar 2023 22:35:35 GMT'},\n",
       "  'RetryAttempts': 0}}"
      ]
     },
     "execution_count": 108,
     "metadata": {},
     "output_type": "execute_result"
    }
   ],
   "source": [
    "# wait for endpoint to reach a terminal state (InService) using describe endpoint\n",
    "\n",
    "import time\n",
    "\n",
    "describe_endpoint_response = client.describe_endpoint(EndpointName=review_ep_name)\n",
    "\n",
    "while describe_endpoint_response[\"EndpointStatus\"] == \"Creating\":\n",
    "    describe_endpoint_response = client.describe_endpoint(EndpointName=review_ep_name)\n",
    "    print(describe_endpoint_response[\"EndpointStatus\"])\n",
    "    time.sleep(15)\n",
    "\n",
    "describe_endpoint_response"
   ]
  },
  {
   "cell_type": "code",
   "execution_count": 109,
   "metadata": {
    "tags": []
   },
   "outputs": [
    {
     "name": "stderr",
     "output_type": "stream",
     "text": [
      "INFO:botocore.credentials:Found credentials from IAM Role: BaseNotebookInstanceEc2InstanceRole\n"
     ]
    },
    {
     "name": "stdout",
     "output_type": "stream",
     "text": [
      "[{'label': ['__label__4'], 'prob': [0.6892287731170654]}, {'label': ['__label__2'], 'prob': [0.7365610003471375]}]\n"
     ]
    }
   ],
   "source": [
    "# first rating is 4 and the second has a rating of 2\n",
    "sentences = [\"nice hotel expensive parking got good deal stay hotel anniversary, arrived late evening took advice previous reviews did valet parking, check quick easy, little disappointed non-existent view room room clean nice size, bed comfortable woke stiff neck high pillows\",\n",
    "            \"warwick bad good reviews warwick shocks staff quite rude rooms fairly dirty, cut asked bandaid did not, requested bottle opener did not better service\"]\n",
    "\n",
    "runtime = boto3.Session().client('sagemaker-runtime')\n",
    "\n",
    "payload = {\"instances\": sentences}\n",
    "\n",
    "response = runtime.invoke_endpoint(\n",
    "    EndpointName=review_ep_name,\n",
    "    Body=json.dumps(payload),\n",
    "    ContentType=\"application/json\",\n",
    ")\n",
    "\n",
    "output = json.loads(response['Body'].read().decode('utf-8'))\n",
    "\n",
    "print(output)                    \n",
    "            "
   ]
  },
  {
   "cell_type": "markdown",
   "metadata": {},
   "source": [
    "### Model Responce\n",
    "The above section shows the response of the model when put in new reviews. The algorithm has successfully predicted the labels for the sentences that were cut from some of the reviews(with some changes). And the probability of it being correct. \n",
    "## Model Interface"
   ]
  },
  {
   "cell_type": "code",
   "execution_count": null,
   "metadata": {
    "tags": []
   },
   "outputs": [
    {
     "name": "stdout",
     "output_type": "stream",
     "text": [
      "Input 0 as EXIT, 1 to type in response 1\n"
     ]
    }
   ],
   "source": [
    "while True:\n",
    "    user_input = input(\"Input 0 as EXIT, 1 to type in response\")\n",
    "    if user_input == \"0\":\n",
    "        break\n",
    "    elif user_input == \"1\":\n",
    "        reviews = input(\"Please write your review on Smith Hotel, Thanks for visiting\")\n",
    "        reviews = [reviews]\n",
    "        runtime = boto3.Session().client('sagemaker-runtime')\n",
    "        payload1 = {\"instances\": reviews}\n",
    "        response = runtime.invoke_endpoint(\n",
    "            EndpointName=review_ep_name,\n",
    "            Body=json.dumps(payload1),\n",
    "            ContentType=\"application/json\",\n",
    "        )\n",
    "        output = json.loads(response['Body'].read().decode('utf-8'))\n",
    "        print(output)         \n",
    "    "
   ]
  },
  {
   "attachments": {},
   "cell_type": "markdown",
   "metadata": {},
   "source": [
    "An example of model interface:\n",
    "Input 0 as EXIT, 1 to type in response 1\n",
    "\n",
    "Please write your review on Smith Hotel, Thanks for visiting warwick bad good reviews warwick shocks staff quite rude rooms fairly dirty, cut asked bandaid did not, requested bottle opener did not better service\n",
    "\n",
    "INFO:botocore.credentials:Found credentials from IAM Role: BaseNotebookInstanceEc2InstanceRole\n",
    "\n",
    "[{'label': ['__label__2'], 'prob': [0.7365610003471375]}]\n",
    "\n",
    "Input 0 as EXIT, 1 to type in response 0"
   ]
  },
  {
   "cell_type": "code",
   "execution_count": null,
   "metadata": {
    "tags": []
   },
   "outputs": [],
   "source": [
    "# delete the model endpoint\n",
    "# https://docs.aws.amazon.com/sagemaker/latest/dg/realtime-endpoints-delete-resources.html\n",
    "client.delete_model(ModelName=deployed_BlazingText_model_name)\n",
    "client.delete_endpoint_config(EndpointConfigName=review_epc_name)\n",
    "client.delete_endpoint(EndpointName=review_ep_name)"
   ]
  },
  {
   "cell_type": "code",
   "execution_count": null,
   "metadata": {},
   "outputs": [],
   "source": []
  }
 ],
 "metadata": {
  "kernelspec": {
   "display_name": "conda_amazonei_pytorch_latest_p37",
   "language": "python",
   "name": "conda_amazonei_pytorch_latest_p37"
  },
  "language_info": {
   "codemirror_mode": {
    "name": "ipython",
    "version": 3
   },
   "file_extension": ".py",
   "mimetype": "text/x-python",
   "name": "python",
   "nbconvert_exporter": "python",
   "pygments_lexer": "ipython3",
   "version": "3.7.10"
  }
 },
 "nbformat": 4,
 "nbformat_minor": 4
}
